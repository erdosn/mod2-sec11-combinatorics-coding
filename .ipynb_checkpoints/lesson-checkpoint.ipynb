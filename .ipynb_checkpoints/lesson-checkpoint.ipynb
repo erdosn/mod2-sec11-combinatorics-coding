{
 "cells": [
  {
   "cell_type": "markdown",
   "metadata": {},
   "source": [
    "# Objectives\n",
    "YWBAT\n",
    "- write a .py file to complete various tasks handling probability\n",
    "- import a .py file in a jn\n",
    "- run live updates on the file in jn"
   ]
  },
  {
   "cell_type": "markdown",
   "metadata": {},
   "source": [
    "## gather some formulas to create\n",
    "\n",
    "## create a .py file using jupyter notebook"
   ]
  },
  {
   "cell_type": "code",
   "execution_count": 16,
   "metadata": {},
   "outputs": [
    {
     "data": {
      "text/plain": [
       "array([14,  8, 12, 11,  0, 19,  2, 13, 18, 19, 18,  1,  1,  3, 11,  4, 12,\n",
       "        8,  9, 10,  2, 16, 14,  6, 13, 17,  3, 10,  7, 10,  3, 12, 19,  2,\n",
       "       14, 19, 15, 15,  0, 17, 11, 13,  7,  7, 19,  4, 15,  9, 10, 11, 10,\n",
       "       18, 11,  8,  4, 15,  7, 15, 13, 11, 19,  0, 12, 12, 15,  7,  9, 10,\n",
       "        0,  0,  2, 17,  8, 14,  9,  7,  1,  6,  5, 11,  1, 13, 14, 13,  9,\n",
       "       19, 13, 16, 17,  6,  7,  2,  8,  3, 16,  5, 17, 10,  8, 11])"
      ]
     },
     "execution_count": 16,
     "metadata": {},
     "output_type": "execute_result"
    }
   ],
   "source": [
    "np.random.randint(0, 20, 100)"
   ]
  },
  {
   "cell_type": "code",
   "execution_count": 33,
   "metadata": {},
   "outputs": [
    {
     "data": {
      "text/plain": [
       "<module 'myFunctions' from '/Users/rafael/flatiron-dsc/curriculum-v2-1/section11/mod2-sec11-combinatorics-coding/myFunctions.py'>"
      ]
     },
     "execution_count": 33,
     "metadata": {},
     "output_type": "execute_result"
    }
   ],
   "source": [
    "from importlib import reload\n",
    "import myFunctions as mf\n",
    "import numpy as np\n",
    "\n",
    "reload(mf)"
   ]
  },
  {
   "cell_type": "code",
   "execution_count": 34,
   "metadata": {},
   "outputs": [
    {
     "data": {
      "text/plain": [
       "336.0"
      ]
     },
     "execution_count": 34,
     "metadata": {},
     "output_type": "execute_result"
    }
   ],
   "source": [
    "mf.permutations(8, 3)"
   ]
  },
  {
   "cell_type": "code",
   "execution_count": 35,
   "metadata": {},
   "outputs": [
    {
     "data": {
      "text/plain": [
       "56.0"
      ]
     },
     "execution_count": 35,
     "metadata": {},
     "output_type": "execute_result"
    }
   ],
   "source": [
    "mf.combinations(8, 3)"
   ]
  },
  {
   "cell_type": "code",
   "execution_count": 36,
   "metadata": {},
   "outputs": [
    {
     "name": "stdout",
     "output_type": "stream",
     "text": [
      "[17, 9, 2, 0, 9, 0, 7, 6, 4, 9, 4, 19, 0, 10, 9, 9, 11, 12, 14, 8, 11, 0, 7, 14, 19, 0, 3, 9, 2, 1, 4, 16, 19, 16, 0, 15, 13, 12, 14, 18, 18, 14, 1, 15, 16, 13, 15, 10, 1, 15, 5, 10, 2, 11, 4, 13, 18, 17, 4, 1, 14, 17, 6, 7, 17, 14, 8, 8, 6, 2, 5, 18, 9, 7, 10, 9, 6, 1, 3, 3, 17, 7, 18, 5, 12, 6, 13, 5, 6, 9, 19, 9, 4, 15, 6, 1, 19, 15, 12, 6]\n"
     ]
    }
   ],
   "source": [
    "y = mf.generate_data(100)\n",
    "print(y)"
   ]
  },
  {
   "cell_type": "code",
   "execution_count": 37,
   "metadata": {},
   "outputs": [
    {
     "name": "stdout",
     "output_type": "stream",
     "text": [
      "Error was: \n",
      "an integer is required (got type str)\n",
      "combinations require that n and r are numerical types and r<=n\n"
     ]
    }
   ],
   "source": [
    "mf.combinations(\"this string\", \"another string\")"
   ]
  },
  {
   "cell_type": "code",
   "execution_count": 38,
   "metadata": {},
   "outputs": [
    {
     "name": "stdout",
     "output_type": "stream",
     "text": [
      "Error was: \n",
      "factorial() not defined for negative values\n",
      "combinations require that n and r are numerical types and r<=n\n"
     ]
    }
   ],
   "source": [
    "mf.combinations(10, 20)"
   ]
  },
  {
   "cell_type": "code",
   "execution_count": 39,
   "metadata": {},
   "outputs": [],
   "source": []
  },
  {
   "cell_type": "code",
   "execution_count": null,
   "metadata": {},
   "outputs": [],
   "source": []
  }
 ],
 "metadata": {
  "kernelspec": {
   "display_name": "Python [conda env:flatiron-env] *",
   "language": "python",
   "name": "conda-env-flatiron-env-py"
  },
  "language_info": {
   "codemirror_mode": {
    "name": "ipython",
    "version": 3
   },
   "file_extension": ".py",
   "mimetype": "text/x-python",
   "name": "python",
   "nbconvert_exporter": "python",
   "pygments_lexer": "ipython3",
   "version": "3.6.0"
  }
 },
 "nbformat": 4,
 "nbformat_minor": 2
}
